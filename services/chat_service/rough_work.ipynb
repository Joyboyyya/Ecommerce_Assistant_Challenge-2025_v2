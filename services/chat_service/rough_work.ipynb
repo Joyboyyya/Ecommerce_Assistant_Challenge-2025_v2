{
 "cells": [
  {
   "cell_type": "code",
   "execution_count": 2,
   "id": "fc97261c",
   "metadata": {},
   "outputs": [
    {
     "name": "stderr",
     "output_type": "stream",
     "text": [
      "d:\\Genai.labs assignment\\assignment\\Ecommerce_Assistant_Challenge 2025\\genailabs\\Lib\\site-packages\\tqdm\\auto.py:21: TqdmWarning: IProgress not found. Please update jupyter and ipywidgets. See https://ipywidgets.readthedocs.io/en/stable/user_install.html\n",
      "  from .autonotebook import tqdm as notebook_tqdm\n"
     ]
    }
   ],
   "source": [
    "from smolagents import HfApiModel, CodeAgent\n",
    "from dotenv import load_dotenv\n",
    "import os"
   ]
  },
  {
   "cell_type": "code",
   "execution_count": 1,
   "id": "f13d6333",
   "metadata": {},
   "outputs": [],
   "source": [
    "# Warning control\n",
    "import warnings\n",
    "\n",
    "warnings.filterwarnings(\"ignore\")\n",
    "\n",
    "import os\n",
    "import io\n",
    "import IPython.display\n",
    "from PIL import Image\n",
    "import base64\n",
    "\n",
    "from dotenv import load_dotenv, find_dotenv\n",
    "\n",
    "# Specify the path to your .env file\n",
    "dotenv_path = r\"D:\\Genai.labs assignment\\assignment\\Ecommerce_Assistant_Challenge 2025\\.env\"\n",
    "\n",
    "# Load environment variables from the specified.env file\n",
    "_ = load_dotenv() # read local .env file\n",
    "\n",
    "from huggingface_hub import login\n",
    "\n",
    "login(os.getenv(\"HUGGINGFACE_API_KEY\"))"
   ]
  },
  {
   "cell_type": "code",
   "execution_count": 10,
   "id": "66768a3d",
   "metadata": {},
   "outputs": [],
   "source": [
    "from smolagents import tool\n",
    "from smolagents import CodeAgent, UserInputTool, DuckDuckGoSearchTool, HfApiModel\n",
    "import requests\n",
    "from typing import List, Dict, Any, Optional, Union\n",
    "import pandas as pd\n",
    "import logging"
   ]
  },
  {
   "cell_type": "code",
   "execution_count": 3,
   "id": "2601519b",
   "metadata": {},
   "outputs": [],
   "source": [
    "# Define base URLs for both services\n",
    "PRODUCT_SERVICE_URL = os.getenv(\"PRODUCT_SERVICE_URL\", \"http://localhost:8001\")\n",
    "ORDER_SERVICE_URL = os.getenv(\"ORDER_SERVICE_URL\", \"http://localhost:8002\")"
   ]
  },
  {
   "cell_type": "code",
   "execution_count": 4,
   "id": "9e7aa996",
   "metadata": {},
   "outputs": [
    {
     "data": {
      "text/plain": [
       "'http://localhost:8001'"
      ]
     },
     "execution_count": 4,
     "metadata": {},
     "output_type": "execute_result"
    }
   ],
   "source": [
    "PRODUCT_SERVICE_URL"
   ]
  },
  {
   "cell_type": "code",
   "execution_count": 7,
   "id": "5f9c5f25",
   "metadata": {},
   "outputs": [
    {
     "ename": "NameError",
     "evalue": "name 'search_products' is not defined",
     "output_type": "error",
     "traceback": [
      "\u001b[31m---------------------------------------------------------------------------\u001b[39m",
      "\u001b[31mNameError\u001b[39m                                 Traceback (most recent call last)",
      "\u001b[36mCell\u001b[39m\u001b[36m \u001b[39m\u001b[32mIn[7]\u001b[39m\u001b[32m, line 1\u001b[39m\n\u001b[32m----> \u001b[39m\u001b[32m1\u001b[39m \u001b[43msearch_products\u001b[49m(\u001b[33m\"\u001b[39m\u001b[33mShoes\u001b[39m\u001b[33m\"\u001b[39m,\u001b[32m3\u001b[39m)\n",
      "\u001b[31mNameError\u001b[39m: name 'search_products' is not defined"
     ]
    }
   ],
   "source": [
    "search_products(\"Shoes\",3)"
   ]
  },
  {
   "cell_type": "markdown",
   "id": "68d509e8",
   "metadata": {},
   "source": [
    "# Tools"
   ]
  },
  {
   "cell_type": "code",
   "execution_count": 14,
   "id": "6975809a",
   "metadata": {},
   "outputs": [],
   "source": [
    "# Configure logging\n",
    "logging.basicConfig(level=logging.INFO)\n",
    "logger = logging.getLogger(__name__)\n",
    "\n",
    "# ==========================================\n",
    "# Product Service Tools\n",
    "# ==========================================\n",
    "\n",
    "@tool\n",
    "def search_products(query: str, top_k: int = 5) -> List[Dict[str, Any]]:\n",
    "    \"\"\"\n",
    "    Search for products based on a text query using RAG.\n",
    "    \n",
    "    Args:\n",
    "        query: Search query string\n",
    "        top_k: Number of results to return (default: 5)\n",
    "        \n",
    "    Returns:\n",
    "        List of product dictionaries containing details like title, description, price, etc.\n",
    "    \"\"\"\n",
    "    try:\n",
    "        response = requests.get(\n",
    "            f\"{PRODUCT_SERVICE_URL}/search\",\n",
    "            params={\"query\": query, \"top_k\": top_k}\n",
    "        )\n",
    "        response.raise_for_status()\n",
    "        data = response.json()\n",
    "        \n",
    "        return data.get(\"results\", [])\n",
    "    except Exception as e:\n",
    "        logger.error(f\"Error searching products: {str(e)}\")\n",
    "        return []\n",
    "\n",
    "@tool\n",
    "def search_product_by_category(category: str, query: str, top_k: int = 5) -> List[Dict[str, Any]]:\n",
    "    \"\"\"\n",
    "    Search for products in a specific category.\n",
    "    \n",
    "    Args:\n",
    "        category: Category to search in\n",
    "        query: Search query string\n",
    "        top_k: Number of results to return (default: 5)\n",
    "        \n",
    "    Returns:\n",
    "        List of product dictionaries containing details like title, description, price, etc.\n",
    "    \"\"\"\n",
    "    try:\n",
    "        response = requests.get(\n",
    "            f\"{PRODUCT_SERVICE_URL}/search/category\",\n",
    "            params={\"category\": category, \"query\": query, \"top_k\": top_k}\n",
    "        )\n",
    "        response.raise_for_status()\n",
    "        data = response.json()\n",
    "        \n",
    "        return data.get(\"results\", [])\n",
    "    except Exception as e:\n",
    "        logger.error(f\"Error searching products by category: {str(e)}\")\n",
    "        return []\n",
    "\n",
    "@tool\n",
    "def get_top_rated_products(category: Optional[str] = None, min_rating: float = 4.5, top_k: int = 5) -> List[Dict[str, Any]]:\n",
    "    \"\"\"\n",
    "    Get top-rated products, optionally filtered by category.\n",
    "    \n",
    "    Args:\n",
    "        category: Category to filter by (optional)\n",
    "        min_rating: Minimum rating threshold (default: 4.5)\n",
    "        top_k: Number of results to return (default: 5)\n",
    "        \n",
    "    Returns:\n",
    "        List of top-rated product dictionaries\n",
    "    \"\"\"\n",
    "    try:\n",
    "        params = {\"min_rating\": min_rating, \"top_k\": top_k}\n",
    "        if category:\n",
    "            params[\"category\"] = category\n",
    "            \n",
    "        response = requests.get(\n",
    "            f\"{PRODUCT_SERVICE_URL}/top-rated\",\n",
    "            params=params\n",
    "        )\n",
    "        response.raise_for_status()\n",
    "        data = response.json()\n",
    "        \n",
    "        return data.get(\"results\", [])\n",
    "    except Exception as e:\n",
    "        logger.error(f\"Error fetching top-rated products: {str(e)}\")\n",
    "        return []\n",
    "\n",
    "@tool\n",
    "def get_product_details(product_id: int) -> Dict[str, Any]:\n",
    "    \"\"\"\n",
    "    Get detailed information about a specific product.\n",
    "    \n",
    "    Args:\n",
    "        product_id: ID of the product\n",
    "        \n",
    "    Returns:\n",
    "        Dictionary containing product details\n",
    "    \"\"\"\n",
    "    try:\n",
    "        response = requests.get(f\"{PRODUCT_SERVICE_URL}/product/{product_id}\")\n",
    "        response.raise_for_status()\n",
    "        return response.json()\n",
    "    except Exception as e:\n",
    "        logger.error(f\"Error fetching product details: {str(e)}\")\n",
    "        return {}\n",
    "\n",
    "@tool\n",
    "def get_specific_instrument_details(instrument_type: str) -> List[Dict[str, Any]]:\n",
    "    \"\"\"\n",
    "    Get information about a specific type of musical instrument.\n",
    "    \n",
    "    Args:\n",
    "        instrument_type: Type of instrument (e.g., 'guitar', 'piano', 'drums')\n",
    "        \n",
    "    Returns:\n",
    "        List of dictionaries containing instrument details\n",
    "    \"\"\"\n",
    "    # This is a specialized search focused on instruments\n",
    "    try:\n",
    "        return search_products(instrument_type, top_k=3)\n",
    "    except Exception as e:\n",
    "        logger.error(f\"Error fetching specific instrument details: {str(e)}\")\n",
    "        return []\n",
    "\n",
    "@tool\n",
    "def compare_products(product_ids: List[int]) -> List[Dict[str, Any]]:\n",
    "    \"\"\"\n",
    "    Compare multiple products side by side.\n",
    "    \n",
    "    Args:\n",
    "        product_ids: List of product IDs to compare\n",
    "        \n",
    "    Returns:\n",
    "        List of dictionaries containing product details for comparison\n",
    "    \"\"\"\n",
    "    products = []\n",
    "    for product_id in product_ids:\n",
    "        try:\n",
    "            product = get_product_details(product_id)\n",
    "            if product:\n",
    "                products.append(product)\n",
    "        except Exception as e:\n",
    "            logger.error(f\"Error fetching product {product_id} for comparison: {str(e)}\")\n",
    "    \n",
    "    return products\n",
    "\n",
    "# ==========================================\n",
    "# Order Service Tools\n",
    "# ==========================================\n",
    "\n",
    "@tool\n",
    "def get_customer_orders(customer_id: int) -> List[Dict[str, Any]]:\n",
    "    \"\"\"\n",
    "    Get all orders for a specific customer.\n",
    "    \n",
    "    Args:\n",
    "        customer_id: Customer ID\n",
    "        \n",
    "    Returns:\n",
    "        List of dictionaries containing order information\n",
    "    \"\"\"\n",
    "    try:\n",
    "        response = requests.get(f\"{ORDER_SERVICE_URL}/customer/{customer_id}\")\n",
    "        response.raise_for_status()\n",
    "        data = response.json()\n",
    "        \n",
    "        return data.get(\"orders\", [])\n",
    "    except Exception as e:\n",
    "        logger.error(f\"Error fetching customer orders: {str(e)}\")\n",
    "        return []\n",
    "\n",
    "@tool\n",
    "def get_customer_recent_order(customer_id: int) -> Dict[str, Any]:\n",
    "    \"\"\"\n",
    "    Get the most recent order for a specific customer.\n",
    "    \n",
    "    Args:\n",
    "        customer_id: Customer ID\n",
    "        \n",
    "    Returns:\n",
    "        Dictionary containing the most recent order details\n",
    "    \"\"\"\n",
    "    try:\n",
    "        response = requests.get(f\"{ORDER_SERVICE_URL}/customer/{customer_id}/recent\")\n",
    "        response.raise_for_status()\n",
    "        data = response.json()\n",
    "        \n",
    "        return data.get(\"order\", {})\n",
    "    except Exception as e:\n",
    "        logger.error(f\"Error fetching recent order: {str(e)}\")\n",
    "        return {}\n",
    "\n",
    "@tool\n",
    "def get_customer_product_orders(customer_id: int, product_keyword: str) -> List[Dict[str, Any]]:\n",
    "    \"\"\"\n",
    "    Get orders containing a specific product for a customer.\n",
    "    \n",
    "    Args:\n",
    "        customer_id: Customer ID\n",
    "        product_keyword: Keyword to search in product name or category\n",
    "        \n",
    "    Returns:\n",
    "        List of dictionaries containing matching order information\n",
    "    \"\"\"\n",
    "    try:\n",
    "        response = requests.get(\n",
    "            f\"{ORDER_SERVICE_URL}/customer/{customer_id}/product\",\n",
    "            params={\"product_keyword\": product_keyword}\n",
    "        )\n",
    "        response.raise_for_status()\n",
    "        data = response.json()\n",
    "        \n",
    "        return data.get(\"orders\", [])\n",
    "    except Exception as e:\n",
    "        logger.error(f\"Error fetching product orders: {str(e)}\")\n",
    "        return []\n",
    "\n",
    "@tool\n",
    "def get_high_priority_orders(limit: int = 5) -> List[Dict[str, Any]]:\n",
    "    \"\"\"\n",
    "    Get recent high-priority orders.\n",
    "    \n",
    "    Args:\n",
    "        limit: Maximum number of orders to return (default: 5)\n",
    "        \n",
    "    Returns:\n",
    "        List of dictionaries containing high-priority order information\n",
    "    \"\"\"\n",
    "    try:\n",
    "        response = requests.get(\n",
    "            f\"{ORDER_SERVICE_URL}/high-priority\",\n",
    "            params={\"limit\": limit}\n",
    "        )\n",
    "        response.raise_for_status()\n",
    "        data = response.json()\n",
    "        \n",
    "        return data.get(\"orders\", [])\n",
    "    except Exception as e:\n",
    "        logger.error(f\"Error fetching high-priority orders: {str(e)}\")\n",
    "        return []\n",
    "\n",
    "@tool\n",
    "def get_sales_by_category() -> List[Dict[str, Any]]:\n",
    "    \"\"\"\n",
    "    Get total sales data aggregated by product category.\n",
    "    \n",
    "    Returns:\n",
    "        List of dictionaries with category and sales data\n",
    "    \"\"\"\n",
    "    try:\n",
    "        response = requests.get(f\"{ORDER_SERVICE_URL}/total-sales-by-category\")\n",
    "        response.raise_for_status()\n",
    "        data = response.json()\n",
    "        \n",
    "        return data.get(\"categories\", [])\n",
    "    except Exception as e:\n",
    "        logger.error(f\"Error fetching sales by category: {str(e)}\")\n",
    "        return []\n",
    "\n",
    "@tool\n",
    "def get_high_profit_products(min_profit: float = 100.0) -> List[Dict[str, Any]]:\n",
    "    \"\"\"\n",
    "    Get high-profit products.\n",
    "    \n",
    "    Args:\n",
    "        min_profit: Minimum profit threshold (default: 100.0)\n",
    "        \n",
    "    Returns:\n",
    "        List of dictionaries containing high-profit product order information\n",
    "    \"\"\"\n",
    "    try:\n",
    "        response = requests.get(\n",
    "            f\"{ORDER_SERVICE_URL}/high-profit-products\",\n",
    "            params={\"min_profit\": min_profit}\n",
    "        )\n",
    "        response.raise_for_status()\n",
    "        data = response.json()\n",
    "        \n",
    "        return data.get(\"products\", [])\n",
    "    except Exception as e:\n",
    "        logger.error(f\"Error fetching high-profit products: {str(e)}\")\n",
    "        return []\n",
    "\n",
    "@tool\n",
    "def get_shipping_cost_summary() -> Dict[str, float]:\n",
    "    \"\"\"\n",
    "    Get shipping cost summary (average, min, max).\n",
    "    \n",
    "    Returns:\n",
    "        Dictionary with shipping cost statistics\n",
    "    \"\"\"\n",
    "    try:\n",
    "        response = requests.get(f\"{ORDER_SERVICE_URL}/shipping-cost-summary\")\n",
    "        response.raise_for_status()\n",
    "        return response.json()\n",
    "    except Exception as e:\n",
    "        logger.error(f\"Error fetching shipping cost summary: {str(e)}\")\n",
    "        return {}\n",
    "\n",
    "@tool\n",
    "def get_profit_by_gender() -> List[Dict[str, Any]]:\n",
    "    \"\"\"\n",
    "    Get total profit aggregated by customer gender.\n",
    "    \n",
    "    Returns:\n",
    "        List of dictionaries with gender and profit data\n",
    "    \"\"\"\n",
    "    try:\n",
    "        response = requests.get(f\"{ORDER_SERVICE_URL}/profit-by-gender\")\n",
    "        response.raise_for_status()\n",
    "        data = response.json()\n",
    "        \n",
    "        return data.get(\"genders\", [])\n",
    "    except Exception as e:\n",
    "        logger.error(f\"Error fetching profit by gender: {str(e)}\")\n",
    "        return []\n",
    "\n",
    "# ==========================================\n",
    "# Combined / Helper Tools\n",
    "# ==========================================\n",
    "\n",
    "@tool\n",
    "def check_product_availability(product_name: str, customer_id: Optional[int] = None) -> Dict[str, Any]:\n",
    "    \"\"\"\n",
    "    Check if a product is available and if the customer has ordered it before.\n",
    "    \n",
    "    Args:\n",
    "        product_name: Name of the product to check\n",
    "        customer_id: Optional customer ID to check order history\n",
    "        \n",
    "    Returns:\n",
    "        Dictionary with availability information and order history if applicable\n",
    "    \"\"\"\n",
    "    result = {\n",
    "        \"product_found\": False,\n",
    "        \"product_details\": None,\n",
    "        \"previously_ordered\": False,\n",
    "        \"previous_orders\": []\n",
    "    }\n",
    "    \n",
    "    # Search for the product\n",
    "    products = search_products(product_name)\n",
    "    if products:\n",
    "        result[\"product_found\"] = True\n",
    "        result[\"product_details\"] = products[0]  # Get the first match\n",
    "    \n",
    "    # Check if customer has ordered this product before\n",
    "    if customer_id and result[\"product_found\"]:\n",
    "        product_orders = get_customer_product_orders(customer_id, product_name)\n",
    "        if product_orders:\n",
    "            result[\"previously_ordered\"] = True\n",
    "            result[\"previous_orders\"] = product_orders\n",
    "    \n",
    "    return result\n",
    "\n",
    "@tool\n",
    "def recommend_similar_products(product_name: str, top_k: int = 3) -> List[Dict[str, Any]]:\n",
    "    \"\"\"\n",
    "    Recommend products similar to the specified product.\n",
    "    \n",
    "    Args:\n",
    "        product_name: Name of the reference product\n",
    "        top_k: Number of recommendations to return (default: 3)\n",
    "        \n",
    "    Returns:\n",
    "        List of dictionaries containing recommended product details\n",
    "    \"\"\"\n",
    "    # First find the product to establish category and features\n",
    "    products = search_products(product_name, top_k=1)\n",
    "    \n",
    "    if not products:\n",
    "        return []\n",
    "    \n",
    "    product = products[0]\n",
    "    category = product.get(\"main_category\", \"\")\n",
    "    \n",
    "    # If we have a category, search within that category\n",
    "    if category:\n",
    "        return search_product_by_category(category, product_name, top_k=top_k)\n",
    "    else:\n",
    "        # Otherwise just do a regular search\n",
    "        return search_products(product_name, top_k=top_k+1)[1:]  # Skip the first result which is the product itself\n",
    "\n",
    "@tool\n",
    "def get_customer_order_summary(customer_id: int) -> Dict[str, Any]:\n",
    "    \"\"\"\n",
    "    Get a summary of a customer's order history.\n",
    "    \n",
    "    Args:\n",
    "        customer_id: Customer ID\n",
    "        \n",
    "    Returns:\n",
    "        Dictionary with order summary statistics\n",
    "    \"\"\"\n",
    "    orders = get_customer_orders(customer_id)\n",
    "    \n",
    "    if not orders:\n",
    "        return {\n",
    "            \"customer_id\": customer_id,\n",
    "            \"total_orders\": 0,\n",
    "            \"message\": \"No order history found for this customer.\"\n",
    "        }\n",
    "    \n",
    "    # Convert to DataFrame for easier analysis\n",
    "    df = pd.DataFrame(orders)\n",
    "    \n",
    "    # Calculate summary statistics\n",
    "    summary = {\n",
    "        \"customer_id\": customer_id,\n",
    "        \"total_orders\": len(df),\n",
    "        \"total_spend\": round(df[\"Sales\"].sum(), 2) if \"Sales\" in df.columns else 0,\n",
    "        \"average_order_value\": round(df[\"Sales\"].mean(), 2) if \"Sales\" in df.columns else 0,\n",
    "        \"total_shipping_cost\": round(df[\"Shipping_Cost\"].sum(), 2) if \"Shipping_Cost\" in df.columns else 0,\n",
    "    }\n",
    "    \n",
    "    # Add most frequent product categories if available\n",
    "    if \"Product_Category\" in df.columns:\n",
    "        category_counts = df[\"Product_Category\"].value_counts().to_dict()\n",
    "        summary[\"top_categories\"] = [\n",
    "            {\"category\": category, \"count\": count} \n",
    "            for category, count in list(category_counts.items())[:3]\n",
    "        ]\n",
    "    \n",
    "    # Add most recent order date if available\n",
    "    if \"Order_Date\" in df.columns:\n",
    "        df[\"Order_Date\"] = pd.to_datetime(df[\"Order_Date\"])\n",
    "        summary[\"most_recent_order_date\"] = df[\"Order_Date\"].max().strftime(\"%Y-%m-%d\")\n",
    "        summary[\"first_order_date\"] = df[\"Order_Date\"].min().strftime(\"%Y-%m-%d\")\n",
    "    \n",
    "    return summary\n",
    "\n",
    "@tool\n",
    "def search_and_get_rating_info(query: str) -> Dict[str, Any]:\n",
    "    \"\"\"\n",
    "    Get rating information for products matching the search query.\n",
    "    \n",
    "    Args:\n",
    "        query: Search query string\n",
    "        \n",
    "    Returns:\n",
    "        Dictionary with rating statistics for matching products\n",
    "    \"\"\"\n",
    "    products = search_products(query)\n",
    "    \n",
    "    if not products:\n",
    "        return {\n",
    "            \"query\": query,\n",
    "            \"products_found\": 0,\n",
    "            \"message\": \"No products found matching the query.\"\n",
    "        }\n",
    "    \n",
    "    # Extract ratings and count them\n",
    "    ratings = [p.get(\"average_rating\", 0) for p in products if p.get(\"average_rating\") is not None]\n",
    "    \n",
    "    return {\n",
    "        \"query\": query,\n",
    "        \"products_found\": len(products),\n",
    "        \"average_rating\": round(sum(ratings) / len(ratings), 1) if ratings else 0,\n",
    "        \"highest_rated_product\": max(products, key=lambda p: p.get(\"average_rating\", 0)) if products else None,\n",
    "        \"lowest_rated_product\": min(products, key=lambda p: p.get(\"average_rating\", 0) if p.get(\"average_rating\") is not None else float('inf')) if products else None\n",
    "    }"
   ]
  },
  {
   "cell_type": "markdown",
   "id": "83e85f3a",
   "metadata": {},
   "source": [
    "# Agentic Setup"
   ]
  },
  {
   "cell_type": "code",
   "execution_count": 6,
   "id": "c8eb0e33",
   "metadata": {},
   "outputs": [],
   "source": [
    "model = HfApiModel(\n",
    "    \"Qwen/Qwen2.5-7B-Instruct\",\n",
    "    provider=\"together\", # Choose a specific inference provider\n",
    "    max_tokens=4096,\n",
    "    temperature=0.1\n",
    ")"
   ]
  },
  {
   "cell_type": "code",
   "execution_count": 7,
   "id": "3420285a",
   "metadata": {},
   "outputs": [],
   "source": [
    "task = \"\"\"Your task is to be a good assistant and help the user with their queries regarding the product and order services.\n",
    "if the user dont provide the requried information, ask them to provide the required information. For example, if the user ask for the order history, ask them to provide the customer id.\n",
    "Dont assume anything, just ask the user to provide the required information.\n",
    "\"\"\""
   ]
  },
  {
   "cell_type": "code",
   "execution_count": 8,
   "id": "453a62fc",
   "metadata": {},
   "outputs": [
    {
     "ename": "NameError",
     "evalue": "name 'search_products' is not defined",
     "output_type": "error",
     "traceback": [
      "\u001b[31m---------------------------------------------------------------------------\u001b[39m",
      "\u001b[31mNameError\u001b[39m                                 Traceback (most recent call last)",
      "\u001b[36mCell\u001b[39m\u001b[36m \u001b[39m\u001b[32mIn[8]\u001b[39m\u001b[32m, line 3\u001b[39m\n\u001b[32m      1\u001b[39m agent = CodeAgent(\n\u001b[32m      2\u001b[39m     model=model,\n\u001b[32m----> \u001b[39m\u001b[32m3\u001b[39m     tools=[\u001b[43msearch_products\u001b[49m,\n\u001b[32m      4\u001b[39m       search_product_by_category,\n\u001b[32m      5\u001b[39m       get_top_rated_products, \n\u001b[32m      6\u001b[39m       get_product_details,\n\u001b[32m      7\u001b[39m       get_specific_instrument_details, \n\u001b[32m      8\u001b[39m       compare_products, \n\u001b[32m      9\u001b[39m       get_customer_orders,\n\u001b[32m     10\u001b[39m       get_customer_recent_order, \n\u001b[32m     11\u001b[39m       get_customer_product_orders,\n\u001b[32m     12\u001b[39m       get_high_priority_orders,\n\u001b[32m     13\u001b[39m       get_sales_by_category,\n\u001b[32m     14\u001b[39m       get_high_profit_products,\n\u001b[32m     15\u001b[39m       get_shipping_cost_summary,\n\u001b[32m     16\u001b[39m       get_profit_by_gender,\n\u001b[32m     17\u001b[39m       check_product_availability,\n\u001b[32m     18\u001b[39m       recommend_similar_products,\n\u001b[32m     19\u001b[39m       get_customer_order_summary,\n\u001b[32m     20\u001b[39m       search_and_get_rating_info,\n\u001b[32m     21\u001b[39m       UserInputTool(),\n\u001b[32m     22\u001b[39m      ],\n\u001b[32m     23\u001b[39m     max_steps=\u001b[32m5\u001b[39m,\n\u001b[32m     24\u001b[39m     additional_authorized_imports=[\u001b[33m\"\u001b[39m\u001b[33mpandas\u001b[39m\u001b[33m\"\u001b[39m, \u001b[33m\"\u001b[39m\u001b[33mnumpy\u001b[39m\u001b[33m\"\u001b[39m],\n\u001b[32m     25\u001b[39m     verbosity_level=\u001b[32m2\u001b[39m\n\u001b[32m     26\u001b[39m )\n",
      "\u001b[31mNameError\u001b[39m: name 'search_products' is not defined"
     ]
    }
   ],
   "source": [
    "agent = CodeAgent(\n",
    "    model=model,\n",
    "    tools=[search_products,\n",
    "      search_product_by_category,\n",
    "      get_top_rated_products, \n",
    "      get_product_details,\n",
    "      get_specific_instrument_details, \n",
    "      compare_products, \n",
    "      get_customer_orders,\n",
    "      get_customer_recent_order, \n",
    "      get_customer_product_orders,\n",
    "      get_high_priority_orders,\n",
    "      get_sales_by_category,\n",
    "      get_high_profit_products,\n",
    "      get_shipping_cost_summary,\n",
    "      get_profit_by_gender,\n",
    "      check_product_availability,\n",
    "      recommend_similar_products,\n",
    "      get_customer_order_summary,\n",
    "      search_and_get_rating_info,\n",
    "      UserInputTool(),\n",
    "     ],\n",
    "    max_steps=5,\n",
    "    additional_authorized_imports=[\"pandas\", \"numpy\"],\n",
    "    verbosity_level=2\n",
    ")"
   ]
  },
  {
   "cell_type": "code",
   "execution_count": 9,
   "id": "b48f00ea",
   "metadata": {},
   "outputs": [
    {
     "ename": "NameError",
     "evalue": "name 'agent' is not defined",
     "output_type": "error",
     "traceback": [
      "\u001b[31m---------------------------------------------------------------------------\u001b[39m",
      "\u001b[31mNameError\u001b[39m                                 Traceback (most recent call last)",
      "\u001b[36mCell\u001b[39m\u001b[36m \u001b[39m\u001b[32mIn[9]\u001b[39m\u001b[32m, line 1\u001b[39m\n\u001b[32m----> \u001b[39m\u001b[32m1\u001b[39m \u001b[43magent\u001b[49m.run(\n\u001b[32m      2\u001b[39m     task=task,\n\u001b[32m      3\u001b[39m     additional_args={\u001b[33m\"\u001b[39m\u001b[33muser_query\u001b[39m\u001b[33m\"\u001b[39m: \u001b[33m\"\"\"\u001b[39m\u001b[33mWhat are the details of my most recent order?\u001b[39m\u001b[33m\"\"\"\u001b[39m}\n\u001b[32m      4\u001b[39m )\n",
      "\u001b[31mNameError\u001b[39m: name 'agent' is not defined"
     ]
    }
   ],
   "source": [
    "agent.run(\n",
    "    task=task,\n",
    "    additional_args={\"user_query\": \"\"\"What are the details of my most recent order?\"\"\"}\n",
    ")"
   ]
  },
  {
   "cell_type": "code",
   "execution_count": null,
   "id": "46f44546",
   "metadata": {},
   "outputs": [],
   "source": [
    "from smolagents import ToolCallingAgent\n",
    "\n",
    "model = HfApiModel(\n",
    "    \"Qwen/Qwen2.5-7B-Instruct\",\n",
    "    provider=\"together\", # Choose a specific inference provider\n",
    "    max_tokens=4096,\n",
    "    temperature=0.6\n",
    ")\n",
    "tool_agent = ToolCallingAgent(\n",
    "    model=model,\n",
    "    tools=[search_products,\n",
    "      search_product_by_category,\n",
    "      get_top_rated_products, \n",
    "      get_product_details,\n",
    "      get_specific_instrument_details, \n",
    "      compare_products, \n",
    "      get_customer_orders,\n",
    "      get_customer_recent_order, \n",
    "      get_customer_product_orders,\n",
    "      get_high_priority_orders,\n",
    "      get_sales_by_category,\n",
    "      get_high_profit_products,\n",
    "      get_shipping_cost_summary,\n",
    "      get_profit_by_gender,\n",
    "      check_product_availability,\n",
    "      recommend_similar_products,\n",
    "      get_customer_order_summary,\n",
    "      search_and_get_rating_info,\n",
    "      UserInputTool()\n",
    "     ],\n",
    "    max_steps=10,\n",
    ")\n",
    "\n",
    "tool_agent.run(\n",
    "    task=task,\n",
    "    additional_args={\"user_query\": \"\"\"What are the details of my most recent order?\"\"\"}\n",
    ")"
   ]
  },
  {
   "cell_type": "code",
   "execution_count": 26,
   "id": "c5f419ca",
   "metadata": {},
   "outputs": [
    {
     "data": {
      "text/html": [
       "<pre style=\"white-space:pre;overflow-x:auto;line-height:normal;font-family:Menlo,'DejaVu Sans Mono',consolas,'Courier New',monospace\"><span style=\"color: #d4b702; text-decoration-color: #d4b702\">╭──────────────────────────────────────────────────── </span><span style=\"color: #d4b702; text-decoration-color: #d4b702; font-weight: bold\">New run</span><span style=\"color: #d4b702; text-decoration-color: #d4b702\"> ────────────────────────────────────────────────────╮</span>\n",
       "<span style=\"color: #d4b702; text-decoration-color: #d4b702\">│</span>                                                                                                                 <span style=\"color: #d4b702; text-decoration-color: #d4b702\">│</span>\n",
       "<span style=\"color: #d4b702; text-decoration-color: #d4b702\">│</span> <span style=\"font-weight: bold\">Your task is to be a good assistant and help the user with their queries regarding the product and order </span>       <span style=\"color: #d4b702; text-decoration-color: #d4b702\">│</span>\n",
       "<span style=\"color: #d4b702; text-decoration-color: #d4b702\">│</span> <span style=\"font-weight: bold\">services.</span>                                                                                                       <span style=\"color: #d4b702; text-decoration-color: #d4b702\">│</span>\n",
       "<span style=\"color: #d4b702; text-decoration-color: #d4b702\">│</span> <span style=\"font-weight: bold\">if the user dont provide the requried information, ask them to provide the required information. For example, </span>  <span style=\"color: #d4b702; text-decoration-color: #d4b702\">│</span>\n",
       "<span style=\"color: #d4b702; text-decoration-color: #d4b702\">│</span> <span style=\"font-weight: bold\">if the user ask for the order history, ask them to provide the customer id.</span>                                     <span style=\"color: #d4b702; text-decoration-color: #d4b702\">│</span>\n",
       "<span style=\"color: #d4b702; text-decoration-color: #d4b702\">│</span> <span style=\"font-weight: bold\">Dont assume anything, just ask the user to provide the required information.</span>                                    <span style=\"color: #d4b702; text-decoration-color: #d4b702\">│</span>\n",
       "<span style=\"color: #d4b702; text-decoration-color: #d4b702\">│</span>                                                                                                                 <span style=\"color: #d4b702; text-decoration-color: #d4b702\">│</span>\n",
       "<span style=\"color: #d4b702; text-decoration-color: #d4b702\">│</span> <span style=\"font-weight: bold\">You have been provided with these additional arguments, that you can access using the keys as variables in your</span> <span style=\"color: #d4b702; text-decoration-color: #d4b702\">│</span>\n",
       "<span style=\"color: #d4b702; text-decoration-color: #d4b702\">│</span> <span style=\"font-weight: bold\">python code:</span>                                                                                                    <span style=\"color: #d4b702; text-decoration-color: #d4b702\">│</span>\n",
       "<span style=\"color: #d4b702; text-decoration-color: #d4b702\">│</span> <span style=\"font-weight: bold\">{'user_query': 'What are the details of my most recent order?'}.</span>                                                <span style=\"color: #d4b702; text-decoration-color: #d4b702\">│</span>\n",
       "<span style=\"color: #d4b702; text-decoration-color: #d4b702\">│</span>                                                                                                                 <span style=\"color: #d4b702; text-decoration-color: #d4b702\">│</span>\n",
       "<span style=\"color: #d4b702; text-decoration-color: #d4b702\">╰─ HfApiModel - Qwen/Qwen2.5-7B-Instruct ─────────────────────────────────────────────────────────────────────────╯</span>\n",
       "</pre>\n"
      ],
      "text/plain": [
       "\u001b[38;2;212;183;2m╭─\u001b[0m\u001b[38;2;212;183;2m───────────────────────────────────────────────────\u001b[0m\u001b[38;2;212;183;2m \u001b[0m\u001b[1;38;2;212;183;2mNew run\u001b[0m\u001b[38;2;212;183;2m \u001b[0m\u001b[38;2;212;183;2m───────────────────────────────────────────────────\u001b[0m\u001b[38;2;212;183;2m─╮\u001b[0m\n",
       "\u001b[38;2;212;183;2m│\u001b[0m                                                                                                                 \u001b[38;2;212;183;2m│\u001b[0m\n",
       "\u001b[38;2;212;183;2m│\u001b[0m \u001b[1mYour task is to be a good assistant and help the user with their queries regarding the product and order \u001b[0m       \u001b[38;2;212;183;2m│\u001b[0m\n",
       "\u001b[38;2;212;183;2m│\u001b[0m \u001b[1mservices.\u001b[0m                                                                                                       \u001b[38;2;212;183;2m│\u001b[0m\n",
       "\u001b[38;2;212;183;2m│\u001b[0m \u001b[1mif the user dont provide the requried information, ask them to provide the required information. For example, \u001b[0m  \u001b[38;2;212;183;2m│\u001b[0m\n",
       "\u001b[38;2;212;183;2m│\u001b[0m \u001b[1mif the user ask for the order history, ask them to provide the customer id.\u001b[0m                                     \u001b[38;2;212;183;2m│\u001b[0m\n",
       "\u001b[38;2;212;183;2m│\u001b[0m \u001b[1mDont assume anything, just ask the user to provide the required information.\u001b[0m                                    \u001b[38;2;212;183;2m│\u001b[0m\n",
       "\u001b[38;2;212;183;2m│\u001b[0m                                                                                                                 \u001b[38;2;212;183;2m│\u001b[0m\n",
       "\u001b[38;2;212;183;2m│\u001b[0m \u001b[1mYou have been provided with these additional arguments, that you can access using the keys as variables in your\u001b[0m \u001b[38;2;212;183;2m│\u001b[0m\n",
       "\u001b[38;2;212;183;2m│\u001b[0m \u001b[1mpython code:\u001b[0m                                                                                                    \u001b[38;2;212;183;2m│\u001b[0m\n",
       "\u001b[38;2;212;183;2m│\u001b[0m \u001b[1m{'user_query': 'What are the details of my most recent order?'}.\u001b[0m                                                \u001b[38;2;212;183;2m│\u001b[0m\n",
       "\u001b[38;2;212;183;2m│\u001b[0m                                                                                                                 \u001b[38;2;212;183;2m│\u001b[0m\n",
       "\u001b[38;2;212;183;2m╰─\u001b[0m\u001b[38;2;212;183;2m HfApiModel - Qwen/Qwen2.5-7B-Instruct \u001b[0m\u001b[38;2;212;183;2m────────────────────────────────────────────────────────────────────────\u001b[0m\u001b[38;2;212;183;2m─╯\u001b[0m\n"
      ]
     },
     "metadata": {},
     "output_type": "display_data"
    },
    {
     "data": {
      "text/html": [
       "<pre style=\"white-space:pre;overflow-x:auto;line-height:normal;font-family:Menlo,'DejaVu Sans Mono',consolas,'Courier New',monospace\"><span style=\"color: #d4b702; text-decoration-color: #d4b702\">━━━━━━━━━━━━━━━━━━━━━━━━━━━━━━━━━━━━━━━━━━━━━━━━━━━━━ </span><span style=\"font-weight: bold\">Step </span><span style=\"color: #008080; text-decoration-color: #008080; font-weight: bold\">1</span><span style=\"color: #d4b702; text-decoration-color: #d4b702\"> ━━━━━━━━━━━━━━━━━━━━━━━━━━━━━━━━━━━━━━━━━━━━━━━━━━━━━━</span>\n",
       "</pre>\n"
      ],
      "text/plain": [
       "\u001b[38;2;212;183;2m━━━━━━━━━━━━━━━━━━━━━━━━━━━━━━━━━━━━━━━━━━━━━━━━━━━━━ \u001b[0m\u001b[1mStep \u001b[0m\u001b[1;36m1\u001b[0m\u001b[38;2;212;183;2m ━━━━━━━━━━━━━━━━━━━━━━━━━━━━━━━━━━━━━━━━━━━━━━━━━━━━━━\u001b[0m\n"
      ]
     },
     "metadata": {},
     "output_type": "display_data"
    },
    {
     "data": {
      "text/html": [
       "<pre style=\"white-space:pre;overflow-x:auto;line-height:normal;font-family:Menlo,'DejaVu Sans Mono',consolas,'Courier New',monospace\">╭─────────────────────────────────────────────────────────────────────────────────────────────────────────────────╮\n",
       "│ Calling tool: 'get_customer_recent_order' with arguments: {'customer_id': 1}                                    │\n",
       "╰─────────────────────────────────────────────────────────────────────────────────────────────────────────────────╯\n",
       "</pre>\n"
      ],
      "text/plain": [
       "╭─────────────────────────────────────────────────────────────────────────────────────────────────────────────────╮\n",
       "│ Calling tool: 'get_customer_recent_order' with arguments: {'customer_id': 1}                                    │\n",
       "╰─────────────────────────────────────────────────────────────────────────────────────────────────────────────────╯\n"
      ]
     },
     "metadata": {},
     "output_type": "display_data"
    },
    {
     "name": "stderr",
     "output_type": "stream",
     "text": [
      "ERROR:__main__:Error fetching recent order: 404 Client Error: Not Found for url: http://localhost:8002/customer/1/recent\n"
     ]
    },
    {
     "data": {
      "text/html": [
       "<pre style=\"white-space:pre;overflow-x:auto;line-height:normal;font-family:Menlo,'DejaVu Sans Mono',consolas,'Courier New',monospace\">Observations: <span style=\"font-weight: bold\">{}</span>\n",
       "</pre>\n"
      ],
      "text/plain": [
       "Observations: \u001b[1m{\u001b[0m\u001b[1m}\u001b[0m\n"
      ]
     },
     "metadata": {},
     "output_type": "display_data"
    },
    {
     "data": {
      "text/html": [
       "<pre style=\"white-space:pre;overflow-x:auto;line-height:normal;font-family:Menlo,'DejaVu Sans Mono',consolas,'Courier New',monospace\"><span style=\"color: #7f7f7f; text-decoration-color: #7f7f7f\">[Step 1: Duration 5.31 seconds| Input tokens: 4,153 | Output tokens: 23]</span>\n",
       "</pre>\n"
      ],
      "text/plain": [
       "\u001b[2m[Step 1: Duration 5.31 seconds| Input tokens: 4,153 | Output tokens: 23]\u001b[0m\n"
      ]
     },
     "metadata": {},
     "output_type": "display_data"
    },
    {
     "data": {
      "text/html": [
       "<pre style=\"white-space:pre;overflow-x:auto;line-height:normal;font-family:Menlo,'DejaVu Sans Mono',consolas,'Courier New',monospace\"><span style=\"color: #d4b702; text-decoration-color: #d4b702\">━━━━━━━━━━━━━━━━━━━━━━━━━━━━━━━━━━━━━━━━━━━━━━━━━━━━━ </span><span style=\"font-weight: bold\">Step </span><span style=\"color: #008080; text-decoration-color: #008080; font-weight: bold\">2</span><span style=\"color: #d4b702; text-decoration-color: #d4b702\"> ━━━━━━━━━━━━━━━━━━━━━━━━━━━━━━━━━━━━━━━━━━━━━━━━━━━━━━</span>\n",
       "</pre>\n"
      ],
      "text/plain": [
       "\u001b[38;2;212;183;2m━━━━━━━━━━━━━━━━━━━━━━━━━━━━━━━━━━━━━━━━━━━━━━━━━━━━━ \u001b[0m\u001b[1mStep \u001b[0m\u001b[1;36m2\u001b[0m\u001b[38;2;212;183;2m ━━━━━━━━━━━━━━━━━━━━━━━━━━━━━━━━━━━━━━━━━━━━━━━━━━━━━━\u001b[0m\n"
      ]
     },
     "metadata": {},
     "output_type": "display_data"
    },
    {
     "data": {
      "text/html": [
       "<pre style=\"white-space:pre;overflow-x:auto;line-height:normal;font-family:Menlo,'DejaVu Sans Mono',consolas,'Courier New',monospace\"><span style=\"color: #800000; text-decoration-color: #800000; font-weight: bold\">Error while parsing tool call from model output: The model output does not contain any JSON blob.</span>\n",
       "</pre>\n"
      ],
      "text/plain": [
       "\u001b[1;31mError while parsing tool call from model output: The model output does not contain any JSON blob.\u001b[0m\n"
      ]
     },
     "metadata": {},
     "output_type": "display_data"
    },
    {
     "data": {
      "text/html": [
       "<pre style=\"white-space:pre;overflow-x:auto;line-height:normal;font-family:Menlo,'DejaVu Sans Mono',consolas,'Courier New',monospace\"><span style=\"color: #7f7f7f; text-decoration-color: #7f7f7f\">[Step 2: Duration 0.62 seconds| Input tokens: 8,393 | Output tokens: 51]</span>\n",
       "</pre>\n"
      ],
      "text/plain": [
       "\u001b[2m[Step 2: Duration 0.62 seconds| Input tokens: 8,393 | Output tokens: 51]\u001b[0m\n"
      ]
     },
     "metadata": {},
     "output_type": "display_data"
    },
    {
     "data": {
      "text/html": [
       "<pre style=\"white-space:pre;overflow-x:auto;line-height:normal;font-family:Menlo,'DejaVu Sans Mono',consolas,'Courier New',monospace\"><span style=\"color: #d4b702; text-decoration-color: #d4b702\">━━━━━━━━━━━━━━━━━━━━━━━━━━━━━━━━━━━━━━━━━━━━━━━━━━━━━ </span><span style=\"font-weight: bold\">Step </span><span style=\"color: #008080; text-decoration-color: #008080; font-weight: bold\">3</span><span style=\"color: #d4b702; text-decoration-color: #d4b702\"> ━━━━━━━━━━━━━━━━━━━━━━━━━━━━━━━━━━━━━━━━━━━━━━━━━━━━━━</span>\n",
       "</pre>\n"
      ],
      "text/plain": [
       "\u001b[38;2;212;183;2m━━━━━━━━━━━━━━━━━━━━━━━━━━━━━━━━━━━━━━━━━━━━━━━━━━━━━ \u001b[0m\u001b[1mStep \u001b[0m\u001b[1;36m3\u001b[0m\u001b[38;2;212;183;2m ━━━━━━━━━━━━━━━━━━━━━━━━━━━━━━━━━━━━━━━━━━━━━━━━━━━━━━\u001b[0m\n"
      ]
     },
     "metadata": {},
     "output_type": "display_data"
    },
    {
     "data": {
      "text/html": [
       "<pre style=\"white-space:pre;overflow-x:auto;line-height:normal;font-family:Menlo,'DejaVu Sans Mono',consolas,'Courier New',monospace\"><span style=\"color: #800000; text-decoration-color: #800000; font-weight: bold\">Error while parsing tool call from model output: The model output does not contain any JSON blob.</span>\n",
       "</pre>\n"
      ],
      "text/plain": [
       "\u001b[1;31mError while parsing tool call from model output: The model output does not contain any JSON blob.\u001b[0m\n"
      ]
     },
     "metadata": {},
     "output_type": "display_data"
    },
    {
     "data": {
      "text/html": [
       "<pre style=\"white-space:pre;overflow-x:auto;line-height:normal;font-family:Menlo,'DejaVu Sans Mono',consolas,'Courier New',monospace\"><span style=\"color: #7f7f7f; text-decoration-color: #7f7f7f\">[Step 3: Duration 0.73 seconds| Input tokens: 12,718 | Output tokens: 74]</span>\n",
       "</pre>\n"
      ],
      "text/plain": [
       "\u001b[2m[Step 3: Duration 0.73 seconds| Input tokens: 12,718 | Output tokens: 74]\u001b[0m\n"
      ]
     },
     "metadata": {},
     "output_type": "display_data"
    },
    {
     "data": {
      "text/html": [
       "<pre style=\"white-space:pre;overflow-x:auto;line-height:normal;font-family:Menlo,'DejaVu Sans Mono',consolas,'Courier New',monospace\"><span style=\"color: #d4b702; text-decoration-color: #d4b702\">━━━━━━━━━━━━━━━━━━━━━━━━━━━━━━━━━━━━━━━━━━━━━━━━━━━━━ </span><span style=\"font-weight: bold\">Step </span><span style=\"color: #008080; text-decoration-color: #008080; font-weight: bold\">4</span><span style=\"color: #d4b702; text-decoration-color: #d4b702\"> ━━━━━━━━━━━━━━━━━━━━━━━━━━━━━━━━━━━━━━━━━━━━━━━━━━━━━━</span>\n",
       "</pre>\n"
      ],
      "text/plain": [
       "\u001b[38;2;212;183;2m━━━━━━━━━━━━━━━━━━━━━━━━━━━━━━━━━━━━━━━━━━━━━━━━━━━━━ \u001b[0m\u001b[1mStep \u001b[0m\u001b[1;36m4\u001b[0m\u001b[38;2;212;183;2m ━━━━━━━━━━━━━━━━━━━━━━━━━━━━━━━━━━━━━━━━━━━━━━━━━━━━━━\u001b[0m\n"
      ]
     },
     "metadata": {},
     "output_type": "display_data"
    },
    {
     "data": {
      "text/html": [
       "<pre style=\"white-space:pre;overflow-x:auto;line-height:normal;font-family:Menlo,'DejaVu Sans Mono',consolas,'Courier New',monospace\"><span style=\"color: #800000; text-decoration-color: #800000; font-weight: bold\">Error while parsing tool call from model output: The model output does not contain any JSON blob.</span>\n",
       "</pre>\n"
      ],
      "text/plain": [
       "\u001b[1;31mError while parsing tool call from model output: The model output does not contain any JSON blob.\u001b[0m\n"
      ]
     },
     "metadata": {},
     "output_type": "display_data"
    },
    {
     "data": {
      "text/html": [
       "<pre style=\"white-space:pre;overflow-x:auto;line-height:normal;font-family:Menlo,'DejaVu Sans Mono',consolas,'Courier New',monospace\"><span style=\"color: #7f7f7f; text-decoration-color: #7f7f7f\">[Step 4: Duration 0.78 seconds| Input tokens: 17,123 | Output tokens: 97]</span>\n",
       "</pre>\n"
      ],
      "text/plain": [
       "\u001b[2m[Step 4: Duration 0.78 seconds| Input tokens: 17,123 | Output tokens: 97]\u001b[0m\n"
      ]
     },
     "metadata": {},
     "output_type": "display_data"
    },
    {
     "data": {
      "text/html": [
       "<pre style=\"white-space:pre;overflow-x:auto;line-height:normal;font-family:Menlo,'DejaVu Sans Mono',consolas,'Courier New',monospace\"><span style=\"color: #d4b702; text-decoration-color: #d4b702\">━━━━━━━━━━━━━━━━━━━━━━━━━━━━━━━━━━━━━━━━━━━━━━━━━━━━━ </span><span style=\"font-weight: bold\">Step </span><span style=\"color: #008080; text-decoration-color: #008080; font-weight: bold\">5</span><span style=\"color: #d4b702; text-decoration-color: #d4b702\"> ━━━━━━━━━━━━━━━━━━━━━━━━━━━━━━━━━━━━━━━━━━━━━━━━━━━━━━</span>\n",
       "</pre>\n"
      ],
      "text/plain": [
       "\u001b[38;2;212;183;2m━━━━━━━━━━━━━━━━━━━━━━━━━━━━━━━━━━━━━━━━━━━━━━━━━━━━━ \u001b[0m\u001b[1mStep \u001b[0m\u001b[1;36m5\u001b[0m\u001b[38;2;212;183;2m ━━━━━━━━━━━━━━━━━━━━━━━━━━━━━━━━━━━━━━━━━━━━━━━━━━━━━━\u001b[0m\n"
      ]
     },
     "metadata": {},
     "output_type": "display_data"
    },
    {
     "data": {
      "text/html": [
       "<pre style=\"white-space:pre;overflow-x:auto;line-height:normal;font-family:Menlo,'DejaVu Sans Mono',consolas,'Courier New',monospace\"><span style=\"color: #800000; text-decoration-color: #800000; font-weight: bold\">Error while parsing tool call from model output: The model output does not contain any JSON blob.</span>\n",
       "</pre>\n"
      ],
      "text/plain": [
       "\u001b[1;31mError while parsing tool call from model output: The model output does not contain any JSON blob.\u001b[0m\n"
      ]
     },
     "metadata": {},
     "output_type": "display_data"
    },
    {
     "data": {
      "text/html": [
       "<pre style=\"white-space:pre;overflow-x:auto;line-height:normal;font-family:Menlo,'DejaVu Sans Mono',consolas,'Courier New',monospace\"><span style=\"color: #7f7f7f; text-decoration-color: #7f7f7f\">[Step 5: Duration 0.67 seconds| Input tokens: 21,608 | Output tokens: 122]</span>\n",
       "</pre>\n"
      ],
      "text/plain": [
       "\u001b[2m[Step 5: Duration 0.67 seconds| Input tokens: 21,608 | Output tokens: 122]\u001b[0m\n"
      ]
     },
     "metadata": {},
     "output_type": "display_data"
    },
    {
     "data": {
      "text/html": [
       "<pre style=\"white-space:pre;overflow-x:auto;line-height:normal;font-family:Menlo,'DejaVu Sans Mono',consolas,'Courier New',monospace\"><span style=\"color: #d4b702; text-decoration-color: #d4b702\">━━━━━━━━━━━━━━━━━━━━━━━━━━━━━━━━━━━━━━━━━━━━━━━━━━━━━ </span><span style=\"font-weight: bold\">Step </span><span style=\"color: #008080; text-decoration-color: #008080; font-weight: bold\">6</span><span style=\"color: #d4b702; text-decoration-color: #d4b702\"> ━━━━━━━━━━━━━━━━━━━━━━━━━━━━━━━━━━━━━━━━━━━━━━━━━━━━━━</span>\n",
       "</pre>\n"
      ],
      "text/plain": [
       "\u001b[38;2;212;183;2m━━━━━━━━━━━━━━━━━━━━━━━━━━━━━━━━━━━━━━━━━━━━━━━━━━━━━ \u001b[0m\u001b[1mStep \u001b[0m\u001b[1;36m6\u001b[0m\u001b[38;2;212;183;2m ━━━━━━━━━━━━━━━━━━━━━━━━━━━━━━━━━━━━━━━━━━━━━━━━━━━━━━\u001b[0m\n"
      ]
     },
     "metadata": {},
     "output_type": "display_data"
    },
    {
     "data": {
      "text/html": [
       "<pre style=\"white-space:pre;overflow-x:auto;line-height:normal;font-family:Menlo,'DejaVu Sans Mono',consolas,'Courier New',monospace\"><span style=\"color: #800000; text-decoration-color: #800000; font-weight: bold\">Error while parsing tool call from model output: The model output does not contain any JSON blob.</span>\n",
       "</pre>\n"
      ],
      "text/plain": [
       "\u001b[1;31mError while parsing tool call from model output: The model output does not contain any JSON blob.\u001b[0m\n"
      ]
     },
     "metadata": {},
     "output_type": "display_data"
    },
    {
     "data": {
      "text/html": [
       "<pre style=\"white-space:pre;overflow-x:auto;line-height:normal;font-family:Menlo,'DejaVu Sans Mono',consolas,'Courier New',monospace\"><span style=\"color: #7f7f7f; text-decoration-color: #7f7f7f\">[Step 6: Duration 0.64 seconds| Input tokens: 26,175 | Output tokens: 149]</span>\n",
       "</pre>\n"
      ],
      "text/plain": [
       "\u001b[2m[Step 6: Duration 0.64 seconds| Input tokens: 26,175 | Output tokens: 149]\u001b[0m\n"
      ]
     },
     "metadata": {},
     "output_type": "display_data"
    },
    {
     "data": {
      "text/html": [
       "<pre style=\"white-space:pre;overflow-x:auto;line-height:normal;font-family:Menlo,'DejaVu Sans Mono',consolas,'Courier New',monospace\"><span style=\"color: #d4b702; text-decoration-color: #d4b702\">━━━━━━━━━━━━━━━━━━━━━━━━━━━━━━━━━━━━━━━━━━━━━━━━━━━━━ </span><span style=\"font-weight: bold\">Step </span><span style=\"color: #008080; text-decoration-color: #008080; font-weight: bold\">7</span><span style=\"color: #d4b702; text-decoration-color: #d4b702\"> ━━━━━━━━━━━━━━━━━━━━━━━━━━━━━━━━━━━━━━━━━━━━━━━━━━━━━━</span>\n",
       "</pre>\n"
      ],
      "text/plain": [
       "\u001b[38;2;212;183;2m━━━━━━━━━━━━━━━━━━━━━━━━━━━━━━━━━━━━━━━━━━━━━━━━━━━━━ \u001b[0m\u001b[1mStep \u001b[0m\u001b[1;36m7\u001b[0m\u001b[38;2;212;183;2m ━━━━━━━━━━━━━━━━━━━━━━━━━━━━━━━━━━━━━━━━━━━━━━━━━━━━━━\u001b[0m\n"
      ]
     },
     "metadata": {},
     "output_type": "display_data"
    },
    {
     "data": {
      "text/html": [
       "<pre style=\"white-space:pre;overflow-x:auto;line-height:normal;font-family:Menlo,'DejaVu Sans Mono',consolas,'Courier New',monospace\"><span style=\"color: #800000; text-decoration-color: #800000; font-weight: bold\">Error while parsing tool call from model output: The model output does not contain any JSON blob.</span>\n",
       "</pre>\n"
      ],
      "text/plain": [
       "\u001b[1;31mError while parsing tool call from model output: The model output does not contain any JSON blob.\u001b[0m\n"
      ]
     },
     "metadata": {},
     "output_type": "display_data"
    },
    {
     "data": {
      "text/html": [
       "<pre style=\"white-space:pre;overflow-x:auto;line-height:normal;font-family:Menlo,'DejaVu Sans Mono',consolas,'Courier New',monospace\"><span style=\"color: #7f7f7f; text-decoration-color: #7f7f7f\">[Step 7: Duration 0.88 seconds| Input tokens: 30,826 | Output tokens: 176]</span>\n",
       "</pre>\n"
      ],
      "text/plain": [
       "\u001b[2m[Step 7: Duration 0.88 seconds| Input tokens: 30,826 | Output tokens: 176]\u001b[0m\n"
      ]
     },
     "metadata": {},
     "output_type": "display_data"
    },
    {
     "data": {
      "text/html": [
       "<pre style=\"white-space:pre;overflow-x:auto;line-height:normal;font-family:Menlo,'DejaVu Sans Mono',consolas,'Courier New',monospace\"><span style=\"color: #d4b702; text-decoration-color: #d4b702\">━━━━━━━━━━━━━━━━━━━━━━━━━━━━━━━━━━━━━━━━━━━━━━━━━━━━━ </span><span style=\"font-weight: bold\">Step </span><span style=\"color: #008080; text-decoration-color: #008080; font-weight: bold\">8</span><span style=\"color: #d4b702; text-decoration-color: #d4b702\"> ━━━━━━━━━━━━━━━━━━━━━━━━━━━━━━━━━━━━━━━━━━━━━━━━━━━━━━</span>\n",
       "</pre>\n"
      ],
      "text/plain": [
       "\u001b[38;2;212;183;2m━━━━━━━━━━━━━━━━━━━━━━━━━━━━━━━━━━━━━━━━━━━━━━━━━━━━━ \u001b[0m\u001b[1mStep \u001b[0m\u001b[1;36m8\u001b[0m\u001b[38;2;212;183;2m ━━━━━━━━━━━━━━━━━━━━━━━━━━━━━━━━━━━━━━━━━━━━━━━━━━━━━━\u001b[0m\n"
      ]
     },
     "metadata": {},
     "output_type": "display_data"
    },
    {
     "data": {
      "text/html": [
       "<pre style=\"white-space:pre;overflow-x:auto;line-height:normal;font-family:Menlo,'DejaVu Sans Mono',consolas,'Courier New',monospace\"><span style=\"color: #800000; text-decoration-color: #800000; font-weight: bold\">Error while parsing tool call from model output: The model output does not contain any JSON blob.</span>\n",
       "</pre>\n"
      ],
      "text/plain": [
       "\u001b[1;31mError while parsing tool call from model output: The model output does not contain any JSON blob.\u001b[0m\n"
      ]
     },
     "metadata": {},
     "output_type": "display_data"
    },
    {
     "data": {
      "text/html": [
       "<pre style=\"white-space:pre;overflow-x:auto;line-height:normal;font-family:Menlo,'DejaVu Sans Mono',consolas,'Courier New',monospace\"><span style=\"color: #7f7f7f; text-decoration-color: #7f7f7f\">[Step 8: Duration 0.83 seconds| Input tokens: 35,561 | Output tokens: 199]</span>\n",
       "</pre>\n"
      ],
      "text/plain": [
       "\u001b[2m[Step 8: Duration 0.83 seconds| Input tokens: 35,561 | Output tokens: 199]\u001b[0m\n"
      ]
     },
     "metadata": {},
     "output_type": "display_data"
    },
    {
     "data": {
      "text/html": [
       "<pre style=\"white-space:pre;overflow-x:auto;line-height:normal;font-family:Menlo,'DejaVu Sans Mono',consolas,'Courier New',monospace\"><span style=\"color: #d4b702; text-decoration-color: #d4b702\">━━━━━━━━━━━━━━━━━━━━━━━━━━━━━━━━━━━━━━━━━━━━━━━━━━━━━ </span><span style=\"font-weight: bold\">Step </span><span style=\"color: #008080; text-decoration-color: #008080; font-weight: bold\">9</span><span style=\"color: #d4b702; text-decoration-color: #d4b702\"> ━━━━━━━━━━━━━━━━━━━━━━━━━━━━━━━━━━━━━━━━━━━━━━━━━━━━━━</span>\n",
       "</pre>\n"
      ],
      "text/plain": [
       "\u001b[38;2;212;183;2m━━━━━━━━━━━━━━━━━━━━━━━━━━━━━━━━━━━━━━━━━━━━━━━━━━━━━ \u001b[0m\u001b[1mStep \u001b[0m\u001b[1;36m9\u001b[0m\u001b[38;2;212;183;2m ━━━━━━━━━━━━━━━━━━━━━━━━━━━━━━━━━━━━━━━━━━━━━━━━━━━━━━\u001b[0m\n"
      ]
     },
     "metadata": {},
     "output_type": "display_data"
    },
    {
     "data": {
      "text/html": [
       "<pre style=\"white-space:pre;overflow-x:auto;line-height:normal;font-family:Menlo,'DejaVu Sans Mono',consolas,'Courier New',monospace\"><span style=\"color: #800000; text-decoration-color: #800000; font-weight: bold\">Error while parsing tool call from model output: The model output does not contain any JSON blob.</span>\n",
       "</pre>\n"
      ],
      "text/plain": [
       "\u001b[1;31mError while parsing tool call from model output: The model output does not contain any JSON blob.\u001b[0m\n"
      ]
     },
     "metadata": {},
     "output_type": "display_data"
    },
    {
     "data": {
      "text/html": [
       "<pre style=\"white-space:pre;overflow-x:auto;line-height:normal;font-family:Menlo,'DejaVu Sans Mono',consolas,'Courier New',monospace\"><span style=\"color: #7f7f7f; text-decoration-color: #7f7f7f\">[Step 9: Duration 0.63 seconds| Input tokens: 40,376 | Output tokens: 222]</span>\n",
       "</pre>\n"
      ],
      "text/plain": [
       "\u001b[2m[Step 9: Duration 0.63 seconds| Input tokens: 40,376 | Output tokens: 222]\u001b[0m\n"
      ]
     },
     "metadata": {},
     "output_type": "display_data"
    },
    {
     "data": {
      "text/html": [
       "<pre style=\"white-space:pre;overflow-x:auto;line-height:normal;font-family:Menlo,'DejaVu Sans Mono',consolas,'Courier New',monospace\"><span style=\"color: #d4b702; text-decoration-color: #d4b702\">━━━━━━━━━━━━━━━━━━━━━━━━━━━━━━━━━━━━━━━━━━━━━━━━━━━━━ </span><span style=\"font-weight: bold\">Step </span><span style=\"color: #008080; text-decoration-color: #008080; font-weight: bold\">10</span><span style=\"color: #d4b702; text-decoration-color: #d4b702\"> ━━━━━━━━━━━━━━━━━━━━━━━━━━━━━━━━━━━━━━━━━━━━━━━━━━━━━</span>\n",
       "</pre>\n"
      ],
      "text/plain": [
       "\u001b[38;2;212;183;2m━━━━━━━━━━━━━━━━━━━━━━━━━━━━━━━━━━━━━━━━━━━━━━━━━━━━━ \u001b[0m\u001b[1mStep \u001b[0m\u001b[1;36m10\u001b[0m\u001b[38;2;212;183;2m ━━━━━━━━━━━━━━━━━━━━━━━━━━━━━━━━━━━━━━━━━━━━━━━━━━━━━\u001b[0m\n"
      ]
     },
     "metadata": {},
     "output_type": "display_data"
    },
    {
     "data": {
      "text/html": [
       "<pre style=\"white-space:pre;overflow-x:auto;line-height:normal;font-family:Menlo,'DejaVu Sans Mono',consolas,'Courier New',monospace\"><span style=\"color: #800000; text-decoration-color: #800000; font-weight: bold\">Error while parsing tool call from model output: The model output does not contain any JSON blob.</span>\n",
       "</pre>\n"
      ],
      "text/plain": [
       "\u001b[1;31mError while parsing tool call from model output: The model output does not contain any JSON blob.\u001b[0m\n"
      ]
     },
     "metadata": {},
     "output_type": "display_data"
    },
    {
     "data": {
      "text/html": [
       "<pre style=\"white-space:pre;overflow-x:auto;line-height:normal;font-family:Menlo,'DejaVu Sans Mono',consolas,'Courier New',monospace\"><span style=\"color: #7f7f7f; text-decoration-color: #7f7f7f\">[Step 10: Duration 0.82 seconds| Input tokens: 45,271 | Output tokens: 245]</span>\n",
       "</pre>\n"
      ],
      "text/plain": [
       "\u001b[2m[Step 10: Duration 0.82 seconds| Input tokens: 45,271 | Output tokens: 245]\u001b[0m\n"
      ]
     },
     "metadata": {},
     "output_type": "display_data"
    },
    {
     "data": {
      "text/html": [
       "<pre style=\"white-space:pre;overflow-x:auto;line-height:normal;font-family:Menlo,'DejaVu Sans Mono',consolas,'Courier New',monospace\"><span style=\"color: #800000; text-decoration-color: #800000; font-weight: bold\">Reached max steps.</span>\n",
       "</pre>\n"
      ],
      "text/plain": [
       "\u001b[1;31mReached max steps.\u001b[0m\n"
      ]
     },
     "metadata": {},
     "output_type": "display_data"
    },
    {
     "data": {
      "text/html": [
       "<pre style=\"white-space:pre;overflow-x:auto;line-height:normal;font-family:Menlo,'DejaVu Sans Mono',consolas,'Courier New',monospace\"><span style=\"color: #7f7f7f; text-decoration-color: #7f7f7f\">[Step 11: Duration 1.26 seconds| Input tokens: 46,388 | Output tokens: 268]</span>\n",
       "</pre>\n"
      ],
      "text/plain": [
       "\u001b[2m[Step 11: Duration 1.26 seconds| Input tokens: 46,388 | Output tokens: 268]\u001b[0m\n"
      ]
     },
     "metadata": {},
     "output_type": "display_data"
    },
    {
     "data": {
      "text/plain": [
       "'To fetch the details of your most recent order, I need your customer ID. Could you please provide it?'"
      ]
     },
     "execution_count": 26,
     "metadata": {},
     "output_type": "execute_result"
    }
   ],
   "source": [
    "tool_agent.run(\n",
    "    task=task,\n",
    "    additional_args={\"user_query\": \"\"\"What are the details of my most recent order?\"\"\"}\n",
    ")"
   ]
  },
  {
   "cell_type": "code",
   "execution_count": null,
   "id": "0915d0a6",
   "metadata": {},
   "outputs": [
    {
     "name": "stderr",
     "output_type": "stream",
     "text": [
      "d:\\Genai.labs assignment\\assignment\\Ecommerce_Assistant_Challenge 2025\\genailabs\\Lib\\site-packages\\tqdm\\auto.py:21: TqdmWarning: IProgress not found. Please update jupyter and ipywidgets. See https://ipywidgets.readthedocs.io/en/stable/user_install.html\n",
      "  from .autonotebook import tqdm as notebook_tqdm\n"
     ]
    },
    {
     "data": {
      "text/html": [
       "<pre style=\"white-space:pre;overflow-x:auto;line-height:normal;font-family:Menlo,'DejaVu Sans Mono',consolas,'Courier New',monospace\"><span style=\"color: #d4b702; text-decoration-color: #d4b702\">╭──────────────────────────────────────────────────── </span><span style=\"color: #d4b702; text-decoration-color: #d4b702; font-weight: bold\">New run</span><span style=\"color: #d4b702; text-decoration-color: #d4b702\"> ────────────────────────────────────────────────────╮</span>\n",
       "<span style=\"color: #d4b702; text-decoration-color: #d4b702\">│</span>                                                                                                                 <span style=\"color: #d4b702; text-decoration-color: #d4b702\">│</span>\n",
       "<span style=\"color: #d4b702; text-decoration-color: #d4b702\">│</span> <span style=\"font-weight: bold\">Search for ‘latest HF releases’, but ask me which model to use first.</span>                                           <span style=\"color: #d4b702; text-decoration-color: #d4b702\">│</span>\n",
       "<span style=\"color: #d4b702; text-decoration-color: #d4b702\">│</span>                                                                                                                 <span style=\"color: #d4b702; text-decoration-color: #d4b702\">│</span>\n",
       "<span style=\"color: #d4b702; text-decoration-color: #d4b702\">╰─ HfApiModel - Qwen/Qwen2.5-Coder-32B-Instruct ──────────────────────────────────────────────────────────────────╯</span>\n",
       "</pre>\n"
      ],
      "text/plain": [
       "\u001b[38;2;212;183;2m╭─\u001b[0m\u001b[38;2;212;183;2m───────────────────────────────────────────────────\u001b[0m\u001b[38;2;212;183;2m \u001b[0m\u001b[1;38;2;212;183;2mNew run\u001b[0m\u001b[38;2;212;183;2m \u001b[0m\u001b[38;2;212;183;2m───────────────────────────────────────────────────\u001b[0m\u001b[38;2;212;183;2m─╮\u001b[0m\n",
       "\u001b[38;2;212;183;2m│\u001b[0m                                                                                                                 \u001b[38;2;212;183;2m│\u001b[0m\n",
       "\u001b[38;2;212;183;2m│\u001b[0m \u001b[1mSearch for ‘latest HF releases’, but ask me which model to use first.\u001b[0m                                           \u001b[38;2;212;183;2m│\u001b[0m\n",
       "\u001b[38;2;212;183;2m│\u001b[0m                                                                                                                 \u001b[38;2;212;183;2m│\u001b[0m\n",
       "\u001b[38;2;212;183;2m╰─\u001b[0m\u001b[38;2;212;183;2m HfApiModel - Qwen/Qwen2.5-Coder-32B-Instruct \u001b[0m\u001b[38;2;212;183;2m─────────────────────────────────────────────────────────────────\u001b[0m\u001b[38;2;212;183;2m─╯\u001b[0m\n"
      ]
     },
     "metadata": {},
     "output_type": "display_data"
    },
    {
     "data": {
      "text/html": [
       "<pre style=\"white-space:pre;overflow-x:auto;line-height:normal;font-family:Menlo,'DejaVu Sans Mono',consolas,'Courier New',monospace\"><span style=\"color: #d4b702; text-decoration-color: #d4b702\">━━━━━━━━━━━━━━━━━━━━━━━━━━━━━━━━━━━━━━━━━━━━━━━━━━━━━ </span><span style=\"font-weight: bold\">Step </span><span style=\"color: #008080; text-decoration-color: #008080; font-weight: bold\">1</span><span style=\"color: #d4b702; text-decoration-color: #d4b702\"> ━━━━━━━━━━━━━━━━━━━━━━━━━━━━━━━━━━━━━━━━━━━━━━━━━━━━━━</span>\n",
       "</pre>\n"
      ],
      "text/plain": [
       "\u001b[38;2;212;183;2m━━━━━━━━━━━━━━━━━━━━━━━━━━━━━━━━━━━━━━━━━━━━━━━━━━━━━ \u001b[0m\u001b[1mStep \u001b[0m\u001b[1;36m1\u001b[0m\u001b[38;2;212;183;2m ━━━━━━━━━━━━━━━━━━━━━━━━━━━━━━━━━━━━━━━━━━━━━━━━━━━━━━\u001b[0m\n"
      ]
     },
     "metadata": {},
     "output_type": "display_data"
    },
    {
     "data": {
      "text/html": [
       "<pre style=\"white-space:pre;overflow-x:auto;line-height:normal;font-family:Menlo,'DejaVu Sans Mono',consolas,'Courier New',monospace\"> ─ <span style=\"font-weight: bold\">Executing parsed code:</span> ──────────────────────────────────────────────────────────────────────────────────────── \n",
       "  <span style=\"color: #f8f8f2; text-decoration-color: #f8f8f2; background-color: #272822\">model_choice </span><span style=\"color: #ff4689; text-decoration-color: #ff4689; background-color: #272822\">=</span><span style=\"color: #f8f8f2; text-decoration-color: #f8f8f2; background-color: #272822\"> user_input(</span><span style=\"color: #e6db74; text-decoration-color: #e6db74; background-color: #272822\">\"Which model are you interested in? (e. g., GPT, BERT, etc.)\"</span><span style=\"color: #f8f8f2; text-decoration-color: #f8f8f2; background-color: #272822\">)</span><span style=\"background-color: #272822\">                       </span>  \n",
       "  <span style=\"color: #f8f8f2; text-decoration-color: #f8f8f2; background-color: #272822\">print(</span><span style=\"color: #e6db74; text-decoration-color: #e6db74; background-color: #272822\">f\"User selected model: {</span><span style=\"color: #f8f8f2; text-decoration-color: #f8f8f2; background-color: #272822\">model_choice</span><span style=\"color: #e6db74; text-decoration-color: #e6db74; background-color: #272822\">}\"</span><span style=\"color: #f8f8f2; text-decoration-color: #f8f8f2; background-color: #272822\">)</span><span style=\"background-color: #272822\">                                                                  </span>  \n",
       " ───────────────────────────────────────────────────────────────────────────────────────────────────────────────── \n",
       "</pre>\n"
      ],
      "text/plain": [
       " ─ \u001b[1mExecuting parsed code:\u001b[0m ──────────────────────────────────────────────────────────────────────────────────────── \n",
       "  \u001b[38;2;248;248;242;48;2;39;40;34mmodel_choice\u001b[0m\u001b[38;2;248;248;242;48;2;39;40;34m \u001b[0m\u001b[38;2;255;70;137;48;2;39;40;34m=\u001b[0m\u001b[38;2;248;248;242;48;2;39;40;34m \u001b[0m\u001b[38;2;248;248;242;48;2;39;40;34muser_input\u001b[0m\u001b[38;2;248;248;242;48;2;39;40;34m(\u001b[0m\u001b[38;2;230;219;116;48;2;39;40;34m\"\u001b[0m\u001b[38;2;230;219;116;48;2;39;40;34mWhich model are you interested in? (e. g., GPT, BERT, etc.)\u001b[0m\u001b[38;2;230;219;116;48;2;39;40;34m\"\u001b[0m\u001b[38;2;248;248;242;48;2;39;40;34m)\u001b[0m\u001b[48;2;39;40;34m                       \u001b[0m  \n",
       "  \u001b[38;2;248;248;242;48;2;39;40;34mprint\u001b[0m\u001b[38;2;248;248;242;48;2;39;40;34m(\u001b[0m\u001b[38;2;230;219;116;48;2;39;40;34mf\u001b[0m\u001b[38;2;230;219;116;48;2;39;40;34m\"\u001b[0m\u001b[38;2;230;219;116;48;2;39;40;34mUser selected model: \u001b[0m\u001b[38;2;230;219;116;48;2;39;40;34m{\u001b[0m\u001b[38;2;248;248;242;48;2;39;40;34mmodel_choice\u001b[0m\u001b[38;2;230;219;116;48;2;39;40;34m}\u001b[0m\u001b[38;2;230;219;116;48;2;39;40;34m\"\u001b[0m\u001b[38;2;248;248;242;48;2;39;40;34m)\u001b[0m\u001b[48;2;39;40;34m                                                                  \u001b[0m  \n",
       " ───────────────────────────────────────────────────────────────────────────────────────────────────────────────── \n"
      ]
     },
     "metadata": {},
     "output_type": "display_data"
    }
   ],
   "source": [
    "from smolagents import CodeAgent, UserInputTool, DuckDuckGoSearchTool, HfApiModel\n",
    "\n",
    "agent = CodeAgent(\n",
    "    model=HfApiModel(),\n",
    "    tools=[\n",
    "      DuckDuckGoSearchTool(),\n",
    "      UserInputTool(),      # ← ask the human when needed\n",
    "    ],\n",
    "    add_base_tools=True,\n",
    ")\n",
    "\n",
    "# If the LLM decides you need to ask the user something,\n",
    "# it will generate a call like:\n",
    "#    user_input(question=\"What query do you want to search?\")\n",
    "# and that will block on input(...) in the console.\n",
    "agent.run(\"Search for ‘latest HF releases’, but ask me which model to use first.\")\n"
   ]
  },
  {
   "cell_type": "code",
   "execution_count": null,
   "id": "989630ba",
   "metadata": {},
   "outputs": [
    {
     "name": "stdout",
     "output_type": "stream",
     "text": [
      "Closing server running on port: 7860\n"
     ]
    }
   ],
   "source": []
  },
  {
   "cell_type": "code",
   "execution_count": null,
   "id": "cc4d0576",
   "metadata": {},
   "outputs": [],
   "source": []
  }
 ],
 "metadata": {
  "kernelspec": {
   "display_name": "genailabs",
   "language": "python",
   "name": "python3"
  },
  "language_info": {
   "codemirror_mode": {
    "name": "ipython",
    "version": 3
   },
   "file_extension": ".py",
   "mimetype": "text/x-python",
   "name": "python",
   "nbconvert_exporter": "python",
   "pygments_lexer": "ipython3",
   "version": "3.13.3"
  }
 },
 "nbformat": 4,
 "nbformat_minor": 5
}
